{
 "cells": [
  {
   "cell_type": "code",
   "execution_count": 2,
   "metadata": {},
   "outputs": [
    {
     "name": "stdout",
     "output_type": "stream",
     "text": [
      "First five lines of the file:\n",
      "   Index   Height(Inches)\"   \"Weight(Pounds)\"\n",
      "0      1             65.78             112.99\n",
      "1      2             71.52             136.49\n",
      "2      3             69.40             153.03\n",
      "3      4             68.22             142.34\n",
      "4      5             67.79             144.30\n",
      "\n",
      "Last five lines of the file:\n",
      "     Index   Height(Inches)\"   \"Weight(Pounds)\"\n",
      "195    196             65.80             120.84\n",
      "196    197             66.11             115.78\n",
      "197    198             68.24             128.30\n",
      "198    199             68.02             127.47\n",
      "199    200             71.39             127.88\n"
     ]
    }
   ],
   "source": [
    "import pandas as pd\n",
    "\n",
    "def read_csv_file():\n",
    "    # Read the CSV file from a random website\n",
    "    url = \"https://people.sc.fsu.edu/~jburkardt/data/csv/hw_200.csv\"  # Example CSV file URL\n",
    "    df = pd.read_csv(url)\n",
    "    \n",
    "    # Print the first five lines\n",
    "    print(\"First five lines of the file:\")\n",
    "    print(df.head(5))\n",
    "    \n",
    "    print(\"\\nLast five lines of the file:\")\n",
    "    print(df.tail(5))\n",
    "\n",
    "# Example usage\n",
    "read_csv_file()\n"
   ]
  }
 ],
 "metadata": {
  "kernelspec": {
   "display_name": "Python 3",
   "language": "python",
   "name": "python3"
  },
  "language_info": {
   "codemirror_mode": {
    "name": "ipython",
    "version": 3
   },
   "file_extension": ".py",
   "mimetype": "text/x-python",
   "name": "python",
   "nbconvert_exporter": "python",
   "pygments_lexer": "ipython3",
   "version": "3.12.8"
  }
 },
 "nbformat": 4,
 "nbformat_minor": 2
}
